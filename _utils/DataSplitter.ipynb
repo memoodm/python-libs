{
 "cells": [
  {
   "cell_type": "markdown",
   "id": "4dfc9e13-dc36-451d-9883-7d1d6c297edb",
   "metadata": {},
   "source": [
    "# Code"
   ]
  },
  {
   "cell_type": "code",
   "execution_count": 2,
   "id": "f2f42476-776e-49e6-9393-9e3753b973a9",
   "metadata": {},
   "outputs": [],
   "source": [
    "import numpy as np\n",
    "import pandas as pd"
   ]
  },
  {
   "cell_type": "code",
   "execution_count": 3,
   "id": "9c57eecd-1852-476c-98a2-168a4195caeb",
   "metadata": {},
   "outputs": [],
   "source": [
    "class DataSplitter:\n",
    "\n",
    "    def split(self, data, train_ratio):\n",
    "        \"\"\"\n",
    "        Splits the data into training and testing sets, supporting lists, numpy arrays, and pandas DataFrames.\n",
    "\n",
    "        Parameters:\n",
    "            data (list, np.ndarray, pd.DataFrame): The input data to be split.\n",
    "            train_ratio (float): The proportion of data for training.\n",
    "\n",
    "        Returns:\n",
    "            tuple: (train_data, test_data) - the same type as input.\n",
    "        \"\"\"\n",
    "        if not (0 <= train_ratio <= 1):\n",
    "            raise ValueError(\"train_ratio must be between 0 and 1.\")\n",
    "        \n",
    "        if isinstance(data, list):\n",
    "            return self.__split_list(data, train_ratio)\n",
    "        elif isinstance(data, np.ndarray):\n",
    "            return self.__split_numpy(data, train_ratio)\n",
    "        elif isinstance(data, pd.DataFrame):\n",
    "            return self.__split_dataframe(data, train_ratio)\n",
    "        else:\n",
    "            raise TypeError(f\"Unsupported data type: {type(data)}\")\n",
    "\n",
    "    def _shuffle_and_split(self, data_size, train_ratio):\n",
    "        shuffled_indices = np.random.permutation(data_size)\n",
    "        split_index = int(data_size * train_ratio)\n",
    "        return shuffled_indices[:split_index], shuffled_indices[split_index:]\n",
    "\n",
    "    def __split_list(self, data, train_ratio):\n",
    "        train_indices, test_indices = self._shuffle_and_split(len(data), train_ratio)\n",
    "        return [data[i] for i in train_indices], [data[i] for i in test_indices]\n",
    "\n",
    "    def __split_numpy(self, data, train_ratio):\n",
    "        train_indices, test_indices = self._shuffle_and_split(len(data), train_ratio)\n",
    "        return data[train_indices], data[test_indices]\n",
    "\n",
    "    def __split_dataframe(self, data, train_ratio):\n",
    "        train_indices, test_indices = self._shuffle_and_split(len(data), train_ratio)\n",
    "        return data.iloc[train_indices], data.iloc[test_indices]"
   ]
  },
  {
   "cell_type": "markdown",
   "id": "e581df07-0ea6-413f-b98b-ca970850f660",
   "metadata": {},
   "source": [
    "# Testing"
   ]
  },
  {
   "cell_type": "code",
   "execution_count": 5,
   "id": "3d4242d0-dfe9-457c-a120-7376e256a6ee",
   "metadata": {},
   "outputs": [
    {
     "name": "stdout",
     "output_type": "stream",
     "text": [
      "Test set: ['D' 'K' 'C' 'I' 'B' 'F' 'G' 'A']\n",
      "Train set: ['H' 'J' 'E']\n"
     ]
    }
   ],
   "source": [
    "#list\n",
    "data = np.array( [\"A\",\"B\",\"C\",\"D\",\"E\",\"F\",\"G\",\"H\",\"I\",\"J\",\"K\"] )\n",
    "train_ratio = 0.8\n",
    "\n",
    "splitter = DataSplitter()\n",
    "train_set , test_set = splitter.split(data,train_ratio)\n",
    "\n",
    "print(f\"Test set: {train_set}\")\n",
    "print(f\"Train set: {test_set}\")"
   ]
  },
  {
   "cell_type": "code",
   "execution_count": 6,
   "id": "c16a8444-549f-4531-97f6-32d968167f35",
   "metadata": {},
   "outputs": [
    {
     "name": "stdout",
     "output_type": "stream",
     "text": [
      "Test set: ['H' 'G' 'D' 'F' 'B' 'K' 'C' 'I']\n",
      "Train set: ['J' 'A' 'E']\n"
     ]
    }
   ],
   "source": [
    "#numpy\n",
    "data = np.array( [\"A\",\"B\",\"C\",\"D\",\"E\",\"F\",\"G\",\"H\",\"I\",\"J\",\"K\"] )\n",
    "train_ratio = 0.8\n",
    "\n",
    "splitter = DataSplitter()\n",
    "train_set , test_set = splitter.split(data,train_ratio)\n",
    "\n",
    "print(f\"Test set: {train_set}\")\n",
    "print(f\"Train set: {test_set}\")"
   ]
  },
  {
   "cell_type": "code",
   "execution_count": 7,
   "id": "fac2aba7-f2cb-4402-84f0-1648832b38c7",
   "metadata": {},
   "outputs": [
    {
     "name": "stdout",
     "output_type": "stream",
     "text": [
      "Test set:    Values\n",
      "4       E\n",
      "2       C\n",
      "3       D\n",
      "1       B\n",
      "7       H\n",
      "10      K\n",
      "9       J\n",
      "0       A\n",
      "Train set:   Values\n",
      "8      I\n",
      "5      F\n",
      "6      G\n"
     ]
    }
   ],
   "source": [
    "#dataset\n",
    "data = [\"A\", \"B\", \"C\", \"D\", \"E\", \"F\", \"G\", \"H\", \"I\", \"J\", \"K\"]\n",
    "df = pd.DataFrame(data, columns=[\"Values\"])\n",
    "train_ratio = 0.8\n",
    "\n",
    "splitter = DataSplitter()\n",
    "train_set , test_set = splitter.split(df,train_ratio)\n",
    "\n",
    "print(f\"Test set: {train_set}\")\n",
    "print(f\"Train set: {test_set}\")"
   ]
  }
 ],
 "metadata": {
  "kernelspec": {
   "display_name": "Python 3 (ipykernel)",
   "language": "python",
   "name": "python3"
  },
  "language_info": {
   "codemirror_mode": {
    "name": "ipython",
    "version": 3
   },
   "file_extension": ".py",
   "mimetype": "text/x-python",
   "name": "python",
   "nbconvert_exporter": "python",
   "pygments_lexer": "ipython3",
   "version": "3.12.7"
  }
 },
 "nbformat": 4,
 "nbformat_minor": 5
}
