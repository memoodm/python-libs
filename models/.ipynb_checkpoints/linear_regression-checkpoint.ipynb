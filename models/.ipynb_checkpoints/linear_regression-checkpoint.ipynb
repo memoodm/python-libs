{
 "cells": [
  {
   "cell_type": "code",
   "execution_count": 1,
   "id": "6cc70235-a059-42f3-8243-28ac9188d3ae",
   "metadata": {},
   "outputs": [],
   "source": [
    "import numpy as np\n",
    "import matplotlib.pyplot as plt\n",
    "import random"
   ]
  },
  {
   "cell_type": "markdown",
   "id": "abf9f958-6c37-403e-8576-02600e1104f3",
   "metadata": {},
   "source": [
    "# Data"
   ]
  },
  {
   "cell_type": "code",
   "execution_count": 3,
   "id": "b33ecff6-6bfb-478f-aa36-60e510e89125",
   "metadata": {},
   "outputs": [
    {
     "name": "stdout",
     "output_type": "stream",
     "text": [
      "m: 1.933\n",
      "b: -4.568\n"
     ]
    }
   ],
   "source": [
    "m = (random.random()-0.5)*10\n",
    "b = (random.random()-0.5)*10\n",
    "print(f\"m: {m:.4}\")\n",
    "print(f\"b: {b:.4}\")\n",
    "\n",
    "x = np.arange(-5,5,0.1)\n",
    "Y = m*x + b + np.random.randn(len(x))"
   ]
  },
  {
   "cell_type": "code",
   "execution_count": 4,
   "id": "6a935c78-38a8-46d9-822b-01e40342499b",
   "metadata": {},
   "outputs": [
    {
     "data": {
      "image/png": "[encoded data removed]",
      "text/plain": [
       "<Figure size 640x480 with 1 Axes>"
      ]
     },
     "metadata": {},
     "output_type": "display_data"
    }
   ],
   "source": [
    "plt.scatter(x,Y)\n",
    "plt.axhline(0, color='black', linestyle='--', linewidth=1)  # y = 0 line\n",
    "plt.axvline(0, color='black', linestyle='--', linewidth=1)  # x = 0 line\n",
    "\n",
    "plt.show()"
   ]
  },
  {
   "cell_type": "markdown",
   "id": "6efda4a0-e5ed-4de9-9aa4-00737172bbee",
   "metadata": {},
   "source": [
    "# manual - iteraciones"
   ]
  },
  {
   "cell_type": "code",
   "execution_count": 6,
   "id": "8e85717a-952a-4b28-8fdd-41e41b7e26dc",
   "metadata": {},
   "outputs": [],
   "source": [
    "LOGS = False"
   ]
  },
  {
   "cell_type": "code",
   "execution_count": 7,
   "id": "cf6f2253-8918-407c-a759-83b394d56d84",
   "metadata": {},
   "outputs": [],
   "source": [
    "def evaluate_error(solution):\n",
    "    error = 0\n",
    "    for point_i in range(len(x)):\n",
    "        y_prediction = x[point_i]*solution[0]+solution[1]\n",
    "        y_real = Y[point_i]\n",
    "        error += (y_prediction-y_real)**2\n",
    "    return error"
   ]
  },
  {
   "cell_type": "code",
   "execution_count": 8,
   "id": "a81bcb3f-48f6-44f4-9fa2-f40e60de97f0",
   "metadata": {},
   "outputs": [
    {
     "ename": "NameError",
     "evalue": "name 'new_solution' is not defined",
     "output_type": "error",
     "traceback": [
      "\u001b[1;31m---------------------------------------------------------------------------\u001b[0m",
      "\u001b[1;31mNameError\u001b[0m                                 Traceback (most recent call last)",
      "Cell \u001b[1;32mIn[8], line 33\u001b[0m\n\u001b[0;32m     30\u001b[0m     \u001b[38;5;28mprint\u001b[39m(\u001b[38;5;124mf\u001b[39m\u001b[38;5;124m\"\u001b[39m\u001b[38;5;124merror reduced: \u001b[39m\u001b[38;5;132;01m{\u001b[39;00mbest_error\u001b[38;5;132;01m}\u001b[39;00m\u001b[38;5;124m -> \u001b[39m\u001b[38;5;132;01m{\u001b[39;00mnew_errors[least_new_error_index]\u001b[38;5;132;01m}\u001b[39;00m\u001b[38;5;124m \u001b[39m\u001b[38;5;124m\"\u001b[39m)\n\u001b[0;32m     32\u001b[0m best_error \u001b[38;5;241m=\u001b[39m least_new_error_value\n\u001b[1;32m---> 33\u001b[0m solution \u001b[38;5;241m=\u001b[39m new_solution[least_new_error_index]\n\u001b[0;32m     35\u001b[0m iteration \u001b[38;5;241m+\u001b[39m\u001b[38;5;241m=\u001b[39m \u001b[38;5;241m1\u001b[39m\n",
      "\u001b[1;31mNameError\u001b[0m: name 'new_solution' is not defined"
     ]
    }
   ],
   "source": [
    "# objetivo: minimizar el error\n",
    "\n",
    "solution = [0,0] # [m,b]\n",
    "deltas = [0.1,0.1]\n",
    "\n",
    "best_error = evaluate_error(solution)\n",
    "\n",
    "iteration = 1\n",
    "while True:\n",
    "\n",
    "    new_solutions = [\n",
    "        [solution[0]+deltas[0], solution[1]          ],\n",
    "        [solution[0]-deltas[0], solution[1]          ],\n",
    "        [solution[0]          , solution[1]+deltas[1]],\n",
    "        [solution[0]          , solution[1]-deltas[1]],\n",
    "    ]\n",
    "\n",
    "    new_errors = [ evaluate_error(solution) for solution in new_solutions ]\n",
    "    least_new_error_index = new_errors.index(min(new_errors))\n",
    "    least_new_error_value = new_errors[least_new_error_index]\n",
    "\n",
    "    if best_error < least_new_error_value:\n",
    "        break\n",
    "\n",
    "    if LOGS:\n",
    "        print(f\"========= iteration {iteration} =========\")\n",
    "        print(\"new_solutions: \",new_solutions)\n",
    "        print(\"new_errors: \",new_errors)\n",
    "        print(f\"path choosed: Model: {new_solutions[least_new_error_index]} Error: {new_errors[least_new_error_index]}\")\n",
    "        print(f\"error reduced: {best_error} -> {new_errors[least_new_error_index]} \")\n",
    "\n",
    "    best_error = least_new_error_value\n",
    "    solution = new_solutions[least_new_error_index]\n",
    "\n",
    "    iteration += 1"
   ]
  },
  {
   "cell_type": "code",
   "execution_count": null,
   "id": "0aec5fd1-9381-40cc-b81e-94190d7b7208",
   "metadata": {},
   "outputs": [],
   "source": [
    "#y_pred = x * solution[0] + solution[1]\n",
    "\n",
    "plt.scatter( x, Y, color=\"tab:blue\", label=\"data\")\n",
    "#plt.plot( x, y_pred, color=\"r\", label=\"model\")\n",
    "plt.title(f\"model: y={model.coef_[0]:.2}*x+{model.intercept_:.2} \")\n",
    "\n",
    "plt.axhline(0, color='black', linestyle='--', linewidth=1)  # y = 0 line\n",
    "plt.axvline(0, color='black', linestyle='--', linewidth=1)  # x = 0 line\n",
    "plt.show()"
   ]
  },
  {
   "cell_type": "markdown",
   "id": "b9465320-3cc2-4052-a703-fb97cb53d671",
   "metadata": {},
   "source": [
    "# library"
   ]
  },
  {
   "cell_type": "code",
   "execution_count": null,
   "id": "33f82a79-0fdf-4b69-984e-7f70d609fbcd",
   "metadata": {},
   "outputs": [],
   "source": [
    "from sklearn.linear_model import LinearRegression\n",
    "from sklearn.metrics import mean_squared_error, mean_absolute_error, r2_score"
   ]
  },
  {
   "cell_type": "code",
   "execution_count": null,
   "id": "2a49f4fd-3156-44a7-bbf6-a56d98f33cb2",
   "metadata": {},
   "outputs": [],
   "source": [
    "model = LinearRegression()\n",
    "X = x.reshape(-1,1)\n",
    "model.fit(X,Y)\n",
    "\n",
    "print(\"Solutions: \")\n",
    "print(f\"Intercepto: {model.intercept_:.3}\")\n",
    "print(f\"Coeficientes: {model.coef_[0]:.3}\")"
   ]
  },
  {
   "cell_type": "code",
   "execution_count": null,
   "id": "b77a6d44-ffb2-42c3-a1d6-95454d5f059b",
   "metadata": {},
   "outputs": [],
   "source": [
    "# predicciones\n",
    "y_pred = model.predict(X)"
   ]
  },
  {
   "cell_type": "code",
   "execution_count": null,
   "id": "7474a69a-bab2-4f96-b067-6d8f6f0fbf74",
   "metadata": {},
   "outputs": [],
   "source": [
    "# errors\n",
    "mse = mean_squared_error(Y, y_pred)  # Mean Squared Error\n",
    "mae = mean_absolute_error(Y, y_pred)  # Mean Absolute Error\n",
    "r2 = r2_score(Y, y_pred)  # R² Score\n",
    "\n",
    "print(\"Errors:\")\n",
    "print(f\"Mean Squared Error (MSE): {mse:.4f}\") # promedio de los errores elevados al cuadrado\n",
    "print(f\"Mean Absolute Error (MAE): {mae:.4f}\") # promedio de los errores absolutos entre los valores reales y los predichos\n",
    "print(f\"R² Score: {r2:.4f}\") # Mide qué tan bien el modelo explica la variabilidad de los datos [0,1]."
   ]
  },
  {
   "cell_type": "code",
   "execution_count": null,
   "id": "1b9c87b8-87b8-4dcd-bdd7-02f5c54c645c",
   "metadata": {},
   "outputs": [],
   "source": [
    "plt.scatter( x, Y, color=\"tab:blue\", label=\"data\")\n",
    "plt.plot( x, y_pred, color=\"r\", label=\"model\")\n",
    "plt.title(f\"model: y={model.coef_[0]:.2}*x+{model.intercept_:.2} \")\n",
    "\n",
    "plt.axhline(0, color='black', linestyle='--', linewidth=1)  # y = 0 line\n",
    "plt.axvline(0, color='black', linestyle='--', linewidth=1)  # x = 0 line\n",
    "plt.show()"
   ]
  },
  {
   "cell_type": "code",
   "execution_count": null,
   "id": "31a0c84f-84d2-484e-9028-4ece2d7a8afd",
   "metadata": {},
   "outputs": [],
   "source": []
  }
 ],
 "metadata": {
  "kernelspec": {
   "display_name": "Python 3 (ipykernel)",
   "language": "python",
   "name": "python3"
  },
  "language_info": {
   "codemirror_mode": {
    "name": "ipython",
    "version": 3
   },
   "file_extension": ".py",
   "mimetype": "text/x-python",
   "name": "python",
   "nbconvert_exporter": "python",
   "pygments_lexer": "ipython3",
   "version": "3.12.7"
  }
 },
 "nbformat": 4,
 "nbformat_minor": 5
}
